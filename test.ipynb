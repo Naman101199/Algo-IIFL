{
 "cells": [
  {
   "cell_type": "code",
   "execution_count": 1,
   "metadata": {},
   "outputs": [],
   "source": [
    "# from XTConnect import XTSConnect\n",
    "from Connect import XTSConnect\n",
    "from datetime import datetime\n",
    "from MarketDataSocketClient import MDSocket_io\n",
    "from config import configuration\n",
    "\n",
    "API_KEY = configuration['API_KEY']\n",
    "API_SECRET = configuration['API_SECRET']\n",
    "source = \"WEBAPI\"\n",
    "\n",
    "xt = XTSConnect(API_KEY, API_SECRET, source)\n"
   ]
  },
  {
   "cell_type": "code",
   "execution_count": 7,
   "metadata": {},
   "outputs": [
    {
     "ename": "UnboundLocalError",
     "evalue": "cannot access local variable 'response' where it is not associated with a value",
     "output_type": "error",
     "traceback": [
      "\u001b[0;31m---------------------------------------------------------------------------\u001b[0m",
      "\u001b[0;31mXTSInputException\u001b[0m                         Traceback (most recent call last)",
      "File \u001b[0;32m~/Desktop/Projects/Algo-IIFL/Connect.py:654\u001b[0m, in \u001b[0;36mXTSConnect.get_master\u001b[0;34m(self, exchangeSegmentList)\u001b[0m\n\u001b[1;32m    653\u001b[0m params \u001b[39m=\u001b[39m {\u001b[39m\"\u001b[39m\u001b[39mexchangeSegmentList\u001b[39m\u001b[39m\"\u001b[39m: exchangeSegmentList}\n\u001b[0;32m--> 654\u001b[0m response \u001b[39m=\u001b[39m \u001b[39mself\u001b[39;49m\u001b[39m.\u001b[39;49m_post(\u001b[39m'\u001b[39;49m\u001b[39mmarket.instruments.master\u001b[39;49m\u001b[39m'\u001b[39;49m, json\u001b[39m.\u001b[39;49mdumps(params))\n\u001b[1;32m    655\u001b[0m \u001b[39mreturn\u001b[39;00m response\n",
      "File \u001b[0;32m~/Desktop/Projects/Algo-IIFL/Connect.py:764\u001b[0m, in \u001b[0;36mXTSConnect._post\u001b[0;34m(self, route, params)\u001b[0m\n\u001b[1;32m    763\u001b[0m \u001b[39m\u001b[39m\u001b[39m\"\"\"Alias for sending a POST request.\"\"\"\u001b[39;00m\n\u001b[0;32m--> 764\u001b[0m \u001b[39mreturn\u001b[39;00m \u001b[39mself\u001b[39;49m\u001b[39m.\u001b[39;49m_request(route, \u001b[39m\"\u001b[39;49m\u001b[39mPOST\u001b[39;49m\u001b[39m\"\u001b[39;49m, params)\n",
      "File \u001b[0;32m~/Desktop/Projects/Algo-IIFL/Connect.py:817\u001b[0m, in \u001b[0;36mXTSConnect._request\u001b[0;34m(self, route, method, parameters)\u001b[0m\n\u001b[1;32m    816\u001b[0m         message \u001b[39m=\u001b[39m \u001b[39m\"\u001b[39m\u001b[39mDescription: \u001b[39m\u001b[39m\"\u001b[39m \u001b[39m+\u001b[39m data[\u001b[39m\"\u001b[39m\u001b[39mdescription\u001b[39m\u001b[39m\"\u001b[39m] \u001b[39m+\u001b[39m \u001b[39m\"\u001b[39m\u001b[39m errors: \u001b[39m\u001b[39m\"\u001b[39m \u001b[39m+\u001b[39m \u001b[39mstr\u001b[39m(data[\u001b[39m'\u001b[39m\u001b[39mresult\u001b[39m\u001b[39m'\u001b[39m][\u001b[39m\"\u001b[39m\u001b[39merrors\u001b[39m\u001b[39m\"\u001b[39m])\n\u001b[0;32m--> 817\u001b[0m         \u001b[39mraise\u001b[39;00m ex\u001b[39m.\u001b[39mXTSInputException(\u001b[39mstr\u001b[39m(message))\n\u001b[1;32m    819\u001b[0m \u001b[39mreturn\u001b[39;00m data\n",
      "\u001b[0;31mXTSInputException\u001b[0m: Description: Bad Request errors: [{'field': ['exchangeSegmentList'], 'location': 'body', 'messages': ['\"exchangeSegmentList\" is required'], 'types': ['any.required']}]",
      "\nDuring handling of the above exception, another exception occurred:\n",
      "\u001b[0;31mUnboundLocalError\u001b[0m                         Traceback (most recent call last)",
      "Cell \u001b[0;32mIn[7], line 2\u001b[0m\n\u001b[1;32m      1\u001b[0m abc \u001b[39m=\u001b[39m [xt\u001b[39m.\u001b[39mEXCHANGE_NSEFO]\n\u001b[0;32m----> 2\u001b[0m response \u001b[39m=\u001b[39m xt\u001b[39m.\u001b[39;49mget_master(exchangeSegmentList\u001b[39m=\u001b[39;49mabc)\n\u001b[1;32m      3\u001b[0m response\n",
      "File \u001b[0;32m~/Desktop/Projects/Algo-IIFL/Connect.py:657\u001b[0m, in \u001b[0;36mXTSConnect.get_master\u001b[0;34m(self, exchangeSegmentList)\u001b[0m\n\u001b[1;32m    655\u001b[0m     \u001b[39mreturn\u001b[39;00m response\n\u001b[1;32m    656\u001b[0m \u001b[39mexcept\u001b[39;00m \u001b[39mException\u001b[39;00m \u001b[39mas\u001b[39;00m e:\n\u001b[0;32m--> 657\u001b[0m     \u001b[39mreturn\u001b[39;00m response[\u001b[39m'\u001b[39m\u001b[39mdescription\u001b[39m\u001b[39m'\u001b[39m]\n",
      "\u001b[0;31mUnboundLocalError\u001b[0m: cannot access local variable 'response' where it is not associated with a value"
     ]
    }
   ],
   "source": [
    "abc = [xt.EXCHANGE_NSEFO]\n",
    "response = xt.get_master(exchangeSegmentList=abc)\n",
    "response"
   ]
  },
  {
   "cell_type": "code",
   "execution_count": null,
   "metadata": {},
   "outputs": [],
   "source": []
  },
  {
   "cell_type": "code",
   "execution_count": null,
   "metadata": {},
   "outputs": [],
   "source": []
  }
 ],
 "metadata": {
  "kernelspec": {
   "display_name": "Python 3.11.5 ('venv': venv)",
   "language": "python",
   "name": "python3"
  },
  "language_info": {
   "codemirror_mode": {
    "name": "ipython",
    "version": 3
   },
   "file_extension": ".py",
   "mimetype": "text/x-python",
   "name": "python",
   "nbconvert_exporter": "python",
   "pygments_lexer": "ipython3",
   "version": "3.11.5"
  },
  "orig_nbformat": 4,
  "vscode": {
   "interpreter": {
    "hash": "63edd9850f64ba923393d57c70813cfb4b5721c76e6431085a339462094a82fc"
   }
  }
 },
 "nbformat": 4,
 "nbformat_minor": 2
}
